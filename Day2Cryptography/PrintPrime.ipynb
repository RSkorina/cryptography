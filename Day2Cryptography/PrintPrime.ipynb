{
 "cells": [
  {
   "cell_type": "code",
   "execution_count": 35,
   "metadata": {},
   "outputs": [
    {
     "name": "stdout",
     "output_type": "stream",
     "text": [
      "954955249594804178471617641211\n"
     ]
    }
   ],
   "source": [
    "# Public Generate prime\n",
    "securityLevel = 100\n",
    "prime = random_prime(2^(securityLevel)-1, false, 2^(securityLevel-1))\n",
    "\n",
    "print prime"
   ]
  },
  {
   "cell_type": "code",
   "execution_count": 36,
   "metadata": {},
   "outputs": [
    {
     "name": "stdout",
     "output_type": "stream",
     "text": [
      "3\n"
     ]
    }
   ],
   "source": [
    "# Public Base\n",
    "g = primitive_root(prime)\n",
    "print(g)"
   ]
  },
  {
   "cell_type": "code",
   "execution_count": 37,
   "metadata": {},
   "outputs": [
    {
     "name": "stdout",
     "output_type": "stream",
     "text": [
      "882296672614752848235924909803\n"
     ]
    }
   ],
   "source": [
    "#Alice Secret\n",
    "a = randint(2, prime-2)\n",
    "A = Mod(g,prime)^a\n",
    "print(a)\n"
   ]
  },
  {
   "cell_type": "code",
   "execution_count": 38,
   "metadata": {},
   "outputs": [
    {
     "name": "stdout",
     "output_type": "stream",
     "text": [
      "226068537434634886719303301327\n"
     ]
    }
   ],
   "source": [
    "# Bob Secret\n",
    "b = randint(2, prime-2)\n",
    "B = Mod(g,prime)^b\n",
    "print(b)\n"
   ]
  },
  {
   "cell_type": "code",
   "execution_count": 39,
   "metadata": {},
   "outputs": [
    {
     "name": "stdout",
     "output_type": "stream",
     "text": [
      "Alice  397433056024255271294892906982\n",
      "Bob    732111716901147847719030364097\n"
     ]
    }
   ],
   "source": [
    "# What is passed publically\n",
    "print \"Alice \", A\n",
    "print \"Bob   \", B"
   ]
  },
  {
   "cell_type": "code",
   "execution_count": 40,
   "metadata": {},
   "outputs": [
    {
     "name": "stdout",
     "output_type": "stream",
     "text": [
      "765302170931922663939091675346\n",
      "765302170931922663939091675346\n",
      "Keys match\n"
     ]
    }
   ],
   "source": [
    "\n",
    "#Alice Does Privately after recieving B\n",
    "aliceKey = mod(B,prime)^a\n",
    "print(aliceKey)\n",
    "#Bob Does Privately after recieving A\n",
    "bobKey = mod(A,prime)^b\n",
    "print(bobKey)\n",
    "#Check if alice and Bob have the same key\n",
    "if(aliceKey == bobKey):\n",
    "    print(\"Keys match\")\n",
    "else: \n",
    "    print(\"Help! Something is wrong\")"
   ]
  },
  {
   "cell_type": "code",
   "execution_count": null,
   "metadata": {},
   "outputs": [],
   "source": [
    "#Hacking Diffie Helman"
   ]
  },
  {
   "cell_type": "code",
   "execution_count": null,
   "metadata": {},
   "outputs": [],
   "source": []
  }
 ],
 "metadata": {
  "kernelspec": {
   "display_name": "SageMath 8.6",
   "language": "",
   "name": "sagemath"
  },
  "language_info": {
   "codemirror_mode": {
    "name": "ipython",
    "version": 2
   },
   "file_extension": ".py",
   "mimetype": "text/x-python",
   "name": "python",
   "nbconvert_exporter": "python",
   "pygments_lexer": "ipython2",
   "version": "2.7.15"
  }
 },
 "nbformat": 4,
 "nbformat_minor": 2
}
