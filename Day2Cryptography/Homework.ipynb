{
 "cells": [
  {
   "cell_type": "code",
   "execution_count": 1,
   "metadata": {},
   "outputs": [
    {
     "data": {
      "text/plain": [
       "'1010'"
      ]
     },
     "execution_count": 1,
     "metadata": {},
     "output_type": "execute_result"
    }
   ],
   "source": [
    "import time\n",
    "def toBinary(number):\n",
    "    return \"{0:b}\".format(number)\n",
    "def fastExponation(base, exponet, modular):\n",
    "    exponet = toBinary(exponet)\n",
    "    total = 1\n",
    "    for i in exponet:\n",
    "        if i == '1':\n",
    "            total = total**2 * base\n",
    "        elif i == '0':\n",
    "            total = total**2\n",
    "        total = total% modular\n",
    "    return total            \n",
    " \n",
    "toBinary(10)"
   ]
  },
  {
   "cell_type": "code",
   "execution_count": 2,
   "metadata": {},
   "outputs": [],
   "source": [
    "def primeAndRoot(ofSize):\n",
    "    # public\n",
    "    prime = random_prime(2^(ofSize)-1, false, 2^(ofSize-1))\n",
    "    primRoot = primitive_root(prime)\n",
    "    return (prime, primRoot)\n",
    "\n",
    "def calculateA(prime, primRoot):\n",
    "    power = randint(2, prime-2)\n",
    "    A = fastExponation(primRoot, power, prime)\n",
    "    return (power, A)\n",
    "\n",
    "def doAliceBob(size):\n",
    "    publicInfo = primeAndRoot(size)\n",
    "    alice = calculateA(publicInfo[0], publicInfo[1])\n",
    "    bob   = calculateA(publicInfo[0], publicInfo[1])\n",
    "    keyAlice = fastExponation(bob[1], alice[0], publicInfo[0])\n",
    "    keyBob   = fastExponation(alice[1], bob[0], publicInfo[0])\n",
    "    if keyAlice == keyBob:\n",
    "        print \"Wohoo\"\n",
    "    else:\n",
    "        print \"booo\""
   ]
  },
  {
   "cell_type": "code",
   "execution_count": 3,
   "metadata": {},
   "outputs": [
    {
     "name": "stdout",
     "output_type": "stream",
     "text": [
      "Wohoo\n"
     ]
    }
   ],
   "source": [
    "doAliceBob(6)\n"
   ]
  },
  {
   "cell_type": "code",
   "execution_count": null,
   "metadata": {},
   "outputs": [
    {
     "name": "stdout",
     "output_type": "stream",
     "text": [
      "Cracked\n",
      "(10, 'in', 0.046999999999997044)\n"
     ]
    }
   ],
   "source": [
    "def DLPBrute(prime, base, A):\n",
    "    for i in range(0, (prime-1)):\n",
    "        if A == fastExponation(base, i, prime):\n",
    "            return i\n",
    "    print prime, base, A\n",
    "    return \"You done F'ed up\"\n",
    "\n",
    "def DLPBruteTest(size):\n",
    "    publicInfo = primeAndRoot(size)\n",
    "    \n",
    "    start = time.clock()\n",
    "    alice = calculateA(publicInfo[0], publicInfo[1])\n",
    "    if alice[0] == DLPBrute(publicInfo[0], publicInfo[1], alice[1]):\n",
    "        print(\"Cracked\")\n",
    "    else:\n",
    "        print(alice[0])\n",
    "        print(\"Ooops\")\n",
    "    end = time.clock()\n",
    "    print(size, \"in\", end-start)\n",
    "        \n",
    "DLPBruteTest(10)\n",
    "# DLPBruteTest(20)\n",
    "# DLPBruteTest(30)\n"
   ]
  },
  {
   "cell_type": "code",
   "execution_count": 31,
   "metadata": {},
   "outputs": [
    {
     "name": "stdout",
     "output_type": "stream",
     "text": [
      "388\n",
      "('size ', 10, 0.0)\n",
      "119574\n",
      "('size ', 20, 0.0)\n",
      "619714812884\n",
      "('size ', 40, 0.046999999999997044)\n",
      "782672861202107267\n",
      "('size ', 60, 0.375)\n",
      "958756834073421394594981\n",
      "('size ', 80, 4.156000000000006)\n",
      "419589635262529374866363548122\n",
      "('size ', 100, 29.34299999999999)\n"
     ]
    }
   ],
   "source": [
    "#Question 4\n",
    "\n",
    "def nextSafePrime(size):\n",
    "    p = next_prime(2**size)\n",
    "    while(True):\n",
    "        if (is_prime(int((p-1)/2))):\n",
    "            return p\n",
    "        else:\n",
    "            p = next_prime(p)\n",
    "\n",
    "    \n",
    "def DLPLogTest():\n",
    "    listSize = [10, 20 , 40, 60, 80, 100]\n",
    "    for size in listSize:\n",
    "        p = nextSafePrime(size)\n",
    "        g = primitive_root(p)\n",
    "        A = 101\n",
    "        start = time.clock()\n",
    "        print(log(Mod(A, p), Mod(g,p)))\n",
    "        end = time.clock()\n",
    "        print(\"size \",size,end-start)\n",
    "        #print(timeit('log(mod(A, p), Mod(g,p))'))\n",
    "   \n",
    "    return\n",
    "\n",
    "#DLPLog(10)\n",
    "\n",
    "DLPLogTest()\n",
    "\n",
    "#for 2^1000, It would take ~28 * 5^45 seconds which is About 2.5*10^25 years.  Which is a long time. \n",
    "\n"
   ]
  },
  {
   "cell_type": "code",
   "execution_count": 34,
   "metadata": {},
   "outputs": [
    {
     "name": "stdout",
     "output_type": "stream",
     "text": [
      "376237441537391243082590601897\n",
      "('size ', 0.03099999999997749)\n"
     ]
    }
   ],
   "source": [
    "# Question 5\n",
    "def DLPLogTestUnsafe():\n",
    "    p = 2**100 + 1095\n",
    "    g = primitive_root(p)\n",
    "    A = 101\n",
    "    start = time.clock()\n",
    "    print(log(Mod(A, p), Mod(g,p)))\n",
    "    end = time.clock()\n",
    "    print(\"size \",end-start)\n",
    "    return\n",
    "DLPLogTestUnsafe()"
   ]
  },
  {
   "cell_type": "code",
   "execution_count": 41,
   "metadata": {},
   "outputs": [
    {
     "data": {
      "text/plain": [
       "2 * 3 * 5 * 26203 * 49801 * 87697 * 13098583 * 28189033"
      ]
     },
     "execution_count": 41,
     "metadata": {},
     "output_type": "execute_result"
    }
   ],
   "source": [
    "# This is a really fast solution of 0.03 sec instead of ~30 sec when we used a safe prime\n",
    "# that is 3 orders of magnitude quicker. \n",
    "import math\n",
    "def primeFactor(num):\n",
    "    i = 2\n",
    "    primeFactors = []\n",
    "    while( not is_prime(num)):\n",
    "        if num % i ==0:\n",
    "            print(i)\n",
    "            primeFactors.append(i)\n",
    "            num = num / i\n",
    "        else: \n",
    "            i = i +1\n",
    "    return primeFactors\n",
    "factor(2**100 + 1095 -1)\n",
    "\n",
    "#This number is so slow because the Chinese remainder theorem say"
   ]
  },
  {
   "cell_type": "code",
   "execution_count": null,
   "metadata": {},
   "outputs": [],
   "source": []
  }
 ],
 "metadata": {
  "kernelspec": {
   "display_name": "SageMath 8.6",
   "language": "",
   "name": "sagemath"
  },
  "language_info": {
   "codemirror_mode": {
    "name": "ipython",
    "version": 2
   },
   "file_extension": ".py",
   "mimetype": "text/x-python",
   "name": "python",
   "nbconvert_exporter": "python",
   "pygments_lexer": "ipython2",
   "version": "2.7.15"
  }
 },
 "nbformat": 4,
 "nbformat_minor": 2
}
